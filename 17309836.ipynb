{
 "cells": [
  {
   "cell_type": "markdown",
   "metadata": {},
   "source": [
    "# COMP20230 - Assignment 2"
   ]
  },
  {
   "cell_type": "markdown",
   "metadata": {},
   "source": [
    "## Section 1 - Sorting Algorithms"
   ]
  },
  {
   "cell_type": "markdown",
   "metadata": {},
   "source": [
    "### Section 1.1 - Implement Sorting Algorithms"
   ]
  },
  {
   "cell_type": "markdown",
   "metadata": {},
   "source": [
    "#### Bubble Sort"
   ]
  },
  {
   "cell_type": "code",
   "execution_count": 5,
   "metadata": {},
   "outputs": [],
   "source": [
    "def bubble_sort(our_list):\n",
    "    \"\"\"Implementation of the Bubble Sort Algorithm\n",
    "    \n",
    "    For each index in the array, comparison operations are performed to push the largest element to the top of the array\n",
    "    Once the element is at the top of the array, we forget about it, and move onto the previous position in the array\n",
    "    We do this until no more comparison operations have been performed - indicating that the array has been sorted\n",
    "    Reference: https://stackabuse.com/bubble-sort-in-python/\n",
    "    \"\"\"\n",
    "    has_swapped = True\n",
    "\n",
    "    num_of_iterations = 0\n",
    "\n",
    "    while(has_swapped):\n",
    "        has_swapped = False\n",
    "        for i in range(len(our_list) - num_of_iterations - 1):\n",
    "            if our_list[i] > our_list[i+1]:\n",
    "                # Swap\n",
    "                our_list[i], our_list[i+1] = our_list[i+1], our_list[i]\n",
    "                has_swapped = True\n",
    "        num_of_iterations += 1\n",
    "\n",
    "    return our_list"
   ]
  },
  {
   "cell_type": "markdown",
   "metadata": {},
   "source": [
    "#### Quick Sort"
   ]
  },
  {
   "cell_type": "code",
   "execution_count": 2,
   "metadata": {},
   "outputs": [],
   "source": [
    "def quick_sort(data):\n",
    "    \"\"\"Implementation of the Quick Sort Algorithm\n",
    "    \n",
    "    Reference: COMP20230 lab material\n",
    "    \"\"\"\n",
    "    if len(data) > 1:\n",
    "        less = []\n",
    "        equal = []\n",
    "        greater = []\n",
    "        pivot = data[0]\n",
    "\n",
    "        for x in data:\n",
    "            if x < pivot:\n",
    "                less.append(x)\n",
    "            elif x == pivot:\n",
    "                equal.append(x)\n",
    "            else:\n",
    "                greater.append(x)\n",
    "\n",
    "        return quick_sort(less) + equal + quick_sort(greater)\n",
    "\n",
    "    else:\n",
    "        return data"
   ]
  },
  {
   "cell_type": "markdown",
   "metadata": {},
   "source": [
    "#### Merge Sort"
   ]
  },
  {
   "cell_type": "code",
   "execution_count": 3,
   "metadata": {},
   "outputs": [],
   "source": [
    "def merge(left, right):\n",
    "    result = []\n",
    "    left_idx, right_idx = 0, 0\n",
    "    while left_idx < len(left) and right_idx < len(right):\n",
    "        if left[left_idx] <= right[right_idx]:\n",
    "            result.append(left[left_idx])\n",
    "            left_idx += 1\n",
    "        else:\n",
    "            result.append(right[right_idx])\n",
    "            right_idx += 1\n",
    " \n",
    "    if left:\n",
    "        result.extend(left[left_idx:])\n",
    "    if right:\n",
    "        result.extend(right[right_idx:])\n",
    "    return result\n",
    "\n",
    "\n",
    "def mergesort(arr):\n",
    "    \"\"\"Implementation of the Merge Sort Algorithm\n",
    "    \n",
    "    Reference: COMP20230 lab material\n",
    "    \"\"\"\n",
    "    if len(arr) <= 1:\n",
    "        return arr\n",
    " \n",
    "    mid = len(arr) // 2\n",
    "    left = arr[:mid]\n",
    "    right = arr[mid:]\n",
    " \n",
    "    left = mergesort(left)\n",
    "    right = mergesort(right)\n",
    "    return list(merge(left, right))"
   ]
  },
  {
   "cell_type": "code",
   "execution_count": 6,
   "metadata": {},
   "outputs": [
    {
     "name": "stdout",
     "output_type": "stream",
     "text": [
      "[1, 2, 3, 4]\n",
      "[1, 2, 3, 4]\n",
      "[1, 2, 3, 4]\n"
     ]
    }
   ],
   "source": [
    "test_arr = [4, 3, 2, 1]\n",
    "print(bubble_sort(test_arr))\n",
    "print(quick_sort(test_arr))\n",
    "print(mergesort(test_arr))"
   ]
  },
  {
   "cell_type": "markdown",
   "metadata": {},
   "source": [
    "### Section 1.2: Create the input lists"
   ]
  },
  {
   "cell_type": "markdown",
   "metadata": {},
   "source": [
    "### Section 1.3: Create helper functions"
   ]
  },
  {
   "cell_type": "markdown",
   "metadata": {},
   "source": [
    "#### Create function to calculate runtimes"
   ]
  },
  {
   "cell_type": "markdown",
   "metadata": {},
   "source": [
    "### Section 1.4: Calculate the sorting algorithm runtimes"
   ]
  },
  {
   "cell_type": "markdown",
   "metadata": {},
   "source": [
    "### Section 1.5: Discussion of results"
   ]
  }
 ],
 "metadata": {
  "interpreter": {
   "hash": "f447eedad95461b113fb3fd736e69f965be206e1325dd52e03730503c3393601"
  },
  "kernelspec": {
   "display_name": "Python 3.10.0 ('COMP20230')",
   "language": "python",
   "name": "python3"
  },
  "language_info": {
   "codemirror_mode": {
    "name": "ipython",
    "version": 3
   },
   "file_extension": ".py",
   "mimetype": "text/x-python",
   "name": "python",
   "nbconvert_exporter": "python",
   "pygments_lexer": "ipython3",
   "version": "3.10.0"
  },
  "orig_nbformat": 4
 },
 "nbformat": 4,
 "nbformat_minor": 2
}
