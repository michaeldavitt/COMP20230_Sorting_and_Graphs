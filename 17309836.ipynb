{
 "cells": [
  {
   "cell_type": "markdown",
   "metadata": {},
   "source": [
    "# COMP20230 - Assignment 2"
   ]
  },
  {
   "cell_type": "code",
   "execution_count": 12,
   "metadata": {},
   "outputs": [],
   "source": [
    "# from scipy.optimize import curve_fit\n",
    "import timeit\n",
    "import matplotlib.pyplot as plt\n",
    "import numpy as np\n",
    "import networkx as nx\n",
    "# import random\n",
    "# import math"
   ]
  },
  {
   "cell_type": "markdown",
   "metadata": {},
   "source": [
    "## Section 1 - Sorting Algorithms"
   ]
  },
  {
   "cell_type": "markdown",
   "metadata": {},
   "source": [
    "### Section 1.x - Implement Sorting Algorithms"
   ]
  },
  {
   "cell_type": "markdown",
   "metadata": {},
   "source": [
    "#### Bubble Sort"
   ]
  },
  {
   "cell_type": "code",
   "execution_count": 2,
   "metadata": {},
   "outputs": [],
   "source": [
    "def bubble_sort(*args):\n",
    "    \"\"\"Implementation of the Bubble Sort Algorithm\n",
    "    \n",
    "    For each index in the array, comparison operations are performed to push the largest element to the top of the array\n",
    "    Once the element is at the top of the array, we forget about it, and move onto the previous position in the array\n",
    "    We do this until no more comparison operations have been performed - indicating that the array has been sorted\n",
    "    Runtime Complexity = O(N^2)\n",
    "    Reference: https://stackabuse.com/bubble-sort-in-python/\n",
    "    \"\"\"\n",
    "    our_list = args[0]\n",
    "\n",
    "    has_swapped = True\n",
    "\n",
    "    num_of_iterations = 0\n",
    "\n",
    "    while(has_swapped):\n",
    "        has_swapped = False\n",
    "        for i in range(len(our_list) - num_of_iterations - 1):\n",
    "            if our_list[i] > our_list[i+1]:\n",
    "                # Swap\n",
    "                our_list[i], our_list[i+1] = our_list[i+1], our_list[i]\n",
    "                has_swapped = True\n",
    "        num_of_iterations += 1\n",
    "\n",
    "    return our_list"
   ]
  },
  {
   "cell_type": "markdown",
   "metadata": {},
   "source": [
    "#### Quick Sort"
   ]
  },
  {
   "cell_type": "code",
   "execution_count": 3,
   "metadata": {},
   "outputs": [],
   "source": [
    "def quick_sort(*args):\n",
    "    \"\"\"Implementation of the Quick Sort Algorithm\n",
    "    \n",
    "    Revolves around the idea of partitioning an array using a pivot\n",
    "    Run algorithm recursively on each of the partitions until you reach the base case\n",
    "    The base case is where the length of the array == 1, at which point you start joining the fragmented arrays back together\n",
    "    The choice of which pivot point to use impacts the algorithm's performance. \n",
    "    We have chosen a pivot in the middle of the array (should result in the best performance, given that we know the input arrays are in reverse order)\n",
    "    Runtime complexity (when optimal pivot is used): O(N * Log(N))\n",
    "    Runtime complexity (when worst pivot is used): O(N^2)\n",
    "    Reference: COMP20230 lab material\n",
    "    \"\"\"\n",
    "    data = args[0]\n",
    "\n",
    "    if len(data) > 1:\n",
    "        less = []\n",
    "        equal = []\n",
    "        greater = []\n",
    "        pivot = data[len(data) // 2]\n",
    "\n",
    "        for x in data:\n",
    "            if x < pivot:\n",
    "                less.append(x)\n",
    "            elif x == pivot:\n",
    "                equal.append(x)\n",
    "            else:\n",
    "                greater.append(x)\n",
    "\n",
    "        return quick_sort(less) + equal + quick_sort(greater)\n",
    "\n",
    "    else:\n",
    "        return data"
   ]
  },
  {
   "cell_type": "markdown",
   "metadata": {},
   "source": [
    "#### Merge Sort"
   ]
  },
  {
   "cell_type": "code",
   "execution_count": 4,
   "metadata": {},
   "outputs": [],
   "source": [
    "def merge(left, right):\n",
    "    \"\"\"Function for merging two arrays in such a way that the newly produced array is sorted\n",
    "    \n",
    "    The two arrays will be the fragmented arrays produced by the merge_sort function\n",
    "    At first, there will be a comparison performed between the elements at index 0 in both arrays\n",
    "    The smallest element will be put into the new sorted array\n",
    "    Another comparison will be done, this time between the larger of the two elements from the last comparison, and the next element in the other array\n",
    "    This process is repeated until one of the two arrays is empty, at which point the rest of the other array can be entered into the sorted array as is.\n",
    "    Runtime complexity: O(N)\n",
    "    \"\"\"\n",
    "    result = []\n",
    "    left_idx, right_idx = 0, 0\n",
    "    while left_idx < len(left) and right_idx < len(right):\n",
    "        if left[left_idx] <= right[right_idx]:\n",
    "            result.append(left[left_idx])\n",
    "            left_idx += 1\n",
    "        else:\n",
    "            result.append(right[right_idx])\n",
    "            right_idx += 1\n",
    " \n",
    "    if left:\n",
    "        result.extend(left[left_idx:])\n",
    "    if right:\n",
    "        result.extend(right[right_idx:])\n",
    "    return result\n",
    "\n",
    "\n",
    "def merge_sort(*args):\n",
    "    \"\"\"Implementation of the Merge Sort Algorithm\n",
    "    \n",
    "    This algorithm begins by partitioning the input array in half until the base case is reached\n",
    "    The base case is reached with the length of the array <= 1\n",
    "    Once we've reached the base case, we start comparing the fragmented arrays.\n",
    "    We create a new array to store the arrays during the comparison process.\n",
    "    The partitioning process is logarithmic in terms of complexity\n",
    "    The comparison process is linear in terms of complexity.\n",
    "    Runtime complexity: O(N * Log(N))\n",
    "    Reference: COMP20230 lab material\n",
    "    \"\"\"\n",
    "    arr = args[0]\n",
    "\n",
    "    if len(arr) <= 1:\n",
    "        return arr\n",
    " \n",
    "    mid = len(arr) // 2\n",
    "    left = arr[:mid]\n",
    "    right = arr[mid:]\n",
    " \n",
    "    left = merge_sort(left)\n",
    "    right = merge_sort(right)\n",
    "    return list(merge(left, right))"
   ]
  },
  {
   "cell_type": "markdown",
   "metadata": {},
   "source": [
    "### Section 1.x: Create the input lists"
   ]
  },
  {
   "cell_type": "code",
   "execution_count": 5,
   "metadata": {},
   "outputs": [],
   "source": [
    "def input_list_generator(n):\n",
    "    \"\"\"Function for generating input lists for the sorting algorithm runtime analysis\n",
    "    \n",
    "    Input = the number of lists you wish to generate\n",
    "    Output = a list of len = input containing lists of len in the range 0 to input - 1\n",
    "    \"\"\"\n",
    "\n",
    "    inputs = []\n",
    "\n",
    "    for i in range(1, n+1):\n",
    "        inputs.append([x for x in range(i-1, -1, -1)])\n",
    "\n",
    "    return inputs"
   ]
  },
  {
   "cell_type": "code",
   "execution_count": 6,
   "metadata": {},
   "outputs": [],
   "source": [
    "inputs = input_list_generator(1000)"
   ]
  },
  {
   "cell_type": "markdown",
   "metadata": {},
   "source": [
    "### Section 1.x: Create helper functions"
   ]
  },
  {
   "cell_type": "markdown",
   "metadata": {},
   "source": [
    "#### Create function to calculate runtimes"
   ]
  },
  {
   "cell_type": "code",
   "execution_count": 7,
   "metadata": {},
   "outputs": [],
   "source": [
    "def get_runtimes(*args, funct=bubble_sort):\n",
    "    \"\"\"Function that takes in a series of positional arguments and a function and returns the runtime of function(arguments)\"\"\"\n",
    "        \n",
    "    # Compute the runtime of the algorithm using the timeit module\n",
    "    start = timeit.default_timer()\n",
    "    funct(*args)\n",
    "    stop = timeit.default_timer()\n",
    "    runtime = stop - start\n",
    "\n",
    "    return runtime"
   ]
  },
  {
   "cell_type": "markdown",
   "metadata": {},
   "source": [
    "### Section 1.x: Calculate the sorting algorithm runtimes"
   ]
  },
  {
   "cell_type": "code",
   "execution_count": 8,
   "metadata": {},
   "outputs": [],
   "source": [
    "def sorting_runtime_calculator(inputs, funct=bubble_sort):\n",
    "    \"\"\"Function to calculate the runtimes of sorting algorithms\n",
    "    \n",
    "    Input = Input list and the sorting algorithm\n",
    "    Output = A list of runtimes\n",
    "    \"\"\"\n",
    "\n",
    "    average_runtimes = []\n",
    "    number_of_runs = 5\n",
    "\n",
    "    for input in inputs:\n",
    "        # if len(input) % 100 == 0:\n",
    "        #     print(len(input))\n",
    "\n",
    "        all_runtimes = np.zeros(shape=(number_of_runs, 1))\n",
    "\n",
    "        for i in range(number_of_runs):\n",
    "            all_runtimes[i] = get_runtimes(input, funct=funct)\n",
    "\n",
    "        average_runtimes.append(np.mean(all_runtimes))\n",
    "\n",
    "    return average_runtimes"
   ]
  },
  {
   "cell_type": "code",
   "execution_count": 9,
   "metadata": {},
   "outputs": [],
   "source": [
    "bubble_runtimes = sorting_runtime_calculator(inputs, bubble_sort)\n",
    "quick_sort_runtimes = sorting_runtime_calculator(inputs, quick_sort)\n",
    "merge_sort_runtimes = sorting_runtime_calculator(inputs, merge_sort)"
   ]
  },
  {
   "cell_type": "markdown",
   "metadata": {},
   "source": [
    "### Section 1.x: Plot Results"
   ]
  },
  {
   "cell_type": "code",
   "execution_count": 10,
   "metadata": {},
   "outputs": [
    {
     "data": {
      "text/plain": [
       "Text(0.5, 1.0, 'Sorting Algorithm Runtime Analysis')"
      ]
     },
     "execution_count": 10,
     "metadata": {},
     "output_type": "execute_result"
    },
    {
     "data": {
      "image/png": "[encoded data removed]",
      "text/plain": [
       "<Figure size 1440x720 with 1 Axes>"
      ]
     },
     "metadata": {
      "needs_background": "light"
     },
     "output_type": "display_data"
    }
   ],
   "source": [
    "n_list = [x for x in range(1, 1001)]\n",
    "\n",
    "fig, ax = plt.subplots(figsize=(20,10))\n",
    "ax.scatter(n_list, bubble_runtimes, label=\"Bubble Sort\")\n",
    "ax.scatter(n_list, quick_sort_runtimes, label=\"Quick Sort\")\n",
    "ax.scatter(n_list, merge_sort_runtimes, label=\"Merge Sort\")\n",
    "plt.legend()\n",
    "plt.xlabel(\"N\")\n",
    "plt.ylabel(\"Runtime\")\n",
    "plt.title(\"Sorting Algorithm Runtime Analysis\")"
   ]
  },
  {
   "cell_type": "markdown",
   "metadata": {},
   "source": [
    "#### Zoom in on Merge Sort"
   ]
  },
  {
   "cell_type": "code",
   "execution_count": 11,
   "metadata": {},
   "outputs": [
    {
     "data": {
      "text/plain": [
       "(0.0, 0.008)"
      ]
     },
     "execution_count": 11,
     "metadata": {},
     "output_type": "execute_result"
    },
    {
     "data": {
      "image/png": "[encoded data removed]",
      "text/plain": [
       "<Figure size 1440x720 with 1 Axes>"
      ]
     },
     "metadata": {
      "needs_background": "light"
     },
     "output_type": "display_data"
    }
   ],
   "source": [
    "fig, ax = plt.subplots(figsize=(20,10))\n",
    "ax.scatter(n_list, bubble_runtimes, label=\"Bubble Sort\")\n",
    "ax.scatter(n_list, quick_sort_runtimes, label=\"Quick Sort\")\n",
    "ax.scatter(n_list, merge_sort_runtimes, label=\"Merge Sort\")\n",
    "plt.legend()\n",
    "plt.xlabel(\"N\")\n",
    "plt.ylabel(\"Runtime\")\n",
    "plt.title(\"Sorting Algorithm Runtime Analysis\")\n",
    "plt.ylim(0, 0.008)"
   ]
  },
  {
   "cell_type": "markdown",
   "metadata": {},
   "source": [
    "### Section 1.x: Discussion of results"
   ]
  },
  {
   "cell_type": "markdown",
   "metadata": {},
   "source": [
    "As we expected, bubble sort was the worst performing out of all of the algorithms. Bubble sort has an O(N^2) time complexity, as you not only have to go through each element in the input array and continuously do comparison operations to push the largest element to the highest index, but you have to do this for each position in the array (find the largest element to put at index len(arr) -1, then find the next largest element to put at index len(arr) - 2 etc.). We made some optimisations to the bubble sort algorithm (we performed checks to see if the array was already sorted before continuing, and decremented the inner for loop each time so that the elements that were in order were left alone for the rest of the algorithm's runtime duration), however, the optimisations were not enough to be competitive against merge sort and quick sort."
   ]
  },
  {
   "cell_type": "markdown",
   "metadata": {},
   "source": [
    "Merge sort and quick sort both have a best and average case time complexity of N * Log(N). Since we knew the structure of our input data (reverse order list), we were able to anticipate the optimal pivot point for quick sort. In practice, this is not always possible, and if we had picked either the first or the last element each time as our pivot, we would have obtained O(N^2) performance. We note that quick sort performed worse than merge sort. This was down to the additional storage complexity associated with merge sort. Merge sort requires the creation of a new data structure to store the sorted array elements. As our input array gets larger, this puts additional pressure on Python to find enough space in memory to store this new data structure, giving rise to a longer runtime"
   ]
  },
  {
   "cell_type": "markdown",
   "metadata": {},
   "source": [
    "## Section 2: Graphs/Dijkstra's Algorithm"
   ]
  },
  {
   "cell_type": "markdown",
   "metadata": {},
   "source": [
    "### Section 2.x: Find shortest path from A -> G"
   ]
  },
  {
   "cell_type": "markdown",
   "metadata": {},
   "source": [
    "http://graphonline.ru/en/?graph=pHMNcHxCKbeqzdlLZZcst"
   ]
  },
  {
   "cell_type": "markdown",
   "metadata": {},
   "source": [
    "### Visit A"
   ]
  },
  {
   "cell_type": "markdown",
   "metadata": {},
   "source": [
    "![](Graph_Screenshots/A_Visit.png)"
   ]
  },
  {
   "cell_type": "markdown",
   "metadata": {},
   "source": [
    "### Update neighbour distances for A"
   ]
  },
  {
   "cell_type": "markdown",
   "metadata": {},
   "source": [
    "![](Graph_Screenshots/A_Updated.png)"
   ]
  },
  {
   "cell_type": "markdown",
   "metadata": {},
   "source": [
    "### Visit B"
   ]
  },
  {
   "cell_type": "markdown",
   "metadata": {},
   "source": [
    "![](Graph_Screenshots/B_Visited.png)"
   ]
  },
  {
   "cell_type": "markdown",
   "metadata": {},
   "source": [
    "### Update neighbour distances for B"
   ]
  },
  {
   "cell_type": "markdown",
   "metadata": {},
   "source": [
    "![](Graph_Screenshots/B_Updated.png)"
   ]
  },
  {
   "cell_type": "markdown",
   "metadata": {},
   "source": [
    "### Visit H"
   ]
  },
  {
   "cell_type": "markdown",
   "metadata": {},
   "source": [
    "![](Graph_Screenshots/H_Visited.png)"
   ]
  },
  {
   "cell_type": "markdown",
   "metadata": {},
   "source": [
    "### Update neighbour distances for H"
   ]
  },
  {
   "cell_type": "markdown",
   "metadata": {},
   "source": [
    "![](Graph_Screenshots/H_Updated.png)"
   ]
  },
  {
   "cell_type": "markdown",
   "metadata": {},
   "source": [
    "### Visit E"
   ]
  },
  {
   "cell_type": "markdown",
   "metadata": {},
   "source": [
    "![](Graph_Screenshots/E_Visited.png)"
   ]
  },
  {
   "cell_type": "markdown",
   "metadata": {},
   "source": [
    "### Update neighbour distances for E"
   ]
  },
  {
   "cell_type": "markdown",
   "metadata": {},
   "source": [
    "![](Graph_Screenshots/E_Updated.png)"
   ]
  },
  {
   "cell_type": "markdown",
   "metadata": {},
   "source": [
    "### Visit F"
   ]
  },
  {
   "cell_type": "markdown",
   "metadata": {},
   "source": [
    "![](Graph_Screenshots/F_Visited.png)"
   ]
  },
  {
   "cell_type": "markdown",
   "metadata": {},
   "source": [
    "### Update neighbour distances for F"
   ]
  },
  {
   "cell_type": "markdown",
   "metadata": {},
   "source": [
    "![](Graph_Screenshots/F_Updated.png)"
   ]
  },
  {
   "cell_type": "markdown",
   "metadata": {},
   "source": [
    "### Visit C"
   ]
  },
  {
   "cell_type": "markdown",
   "metadata": {},
   "source": [
    "![](Graph_Screenshots/C_Visited.png)"
   ]
  },
  {
   "cell_type": "markdown",
   "metadata": {},
   "source": [
    "### Update neighbour distances for C"
   ]
  },
  {
   "cell_type": "markdown",
   "metadata": {},
   "source": [
    "![](Graph_Screenshots/C_Updated.png)"
   ]
  },
  {
   "cell_type": "markdown",
   "metadata": {},
   "source": [
    "### Visit D"
   ]
  },
  {
   "cell_type": "markdown",
   "metadata": {},
   "source": [
    "![](Graph_Screenshots/D_Visited.png)"
   ]
  },
  {
   "cell_type": "markdown",
   "metadata": {},
   "source": [
    "### Visit G"
   ]
  },
  {
   "cell_type": "markdown",
   "metadata": {},
   "source": [
    "![](Graph_Screenshots/G_Visited.png)"
   ]
  },
  {
   "cell_type": "markdown",
   "metadata": {},
   "source": [
    "### Section 2.x: Discussion of results"
   ]
  },
  {
   "cell_type": "markdown",
   "metadata": {},
   "source": []
  },
  {
   "cell_type": "markdown",
   "metadata": {},
   "source": [
    "### Section 2.x: Validation of results"
   ]
  },
  {
   "cell_type": "code",
   "execution_count": 13,
   "metadata": {},
   "outputs": [],
   "source": [
    "G = nx.Graph()\n",
    "G.add_node('a')\n",
    "G.add_node('b')\n",
    "G.add_node('c')\n",
    "G.add_node('d')\n",
    "G.add_node('e')\n",
    "G.add_node('f')\n",
    "G.add_node('g')\n",
    "G.add_node('h')"
   ]
  },
  {
   "cell_type": "code",
   "execution_count": 14,
   "metadata": {},
   "outputs": [],
   "source": [
    "G.add_edge('a', 'b', weight=5)\n",
    "G.add_edge('a', 'e', weight=9)\n",
    "G.add_edge('a', 'h', weight=8)\n",
    "G.add_edge('b', 'c', weight=12)\n",
    "G.add_edge('b', 'd', weight=15)\n",
    "G.add_edge('b', 'h', weight=4)\n",
    "G.add_edge('c', 'd', weight=3)\n",
    "G.add_edge('c', 'f', weight=1)\n",
    "G.add_edge('c', 'g', weight=11)\n",
    "G.add_edge('c', 'h', weight=7)\n",
    "G.add_edge('d', 'g', weight=9)\n",
    "G.add_edge('e', 'f', weight=4)\n",
    "G.add_edge('e', 'g', weight=20)\n",
    "G.add_edge('e', 'h', weight=5)\n",
    "G.add_edge('f', 'g', weight=13)\n",
    "G.add_edge('f', 'h', weight=6)"
   ]
  },
  {
   "cell_type": "code",
   "execution_count": 27,
   "metadata": {},
   "outputs": [
    {
     "data": {
      "image/png": "[encoded data removed]",
      "text/plain": [
       "<Figure size 432x288 with 1 Axes>"
      ]
     },
     "metadata": {},
     "output_type": "display_data"
    }
   ],
   "source": [
    "# pos = nx.spring_layout(G) # for a random layout\n",
    "pos= {'a': [-.8, .1], 'b': [-.3, .5], 'c': [0, -.8], 'd': [0.4, 0.3], 'e': [-.7, -3.5], 'f': [-.1, -2.2], 'g': [.3, -3.2], 'h': [ -.4, -1.6]}\n",
    "nx.draw_networkx_nodes(G, pos, node_size=1500, alpha=.9, node_color='#0000ac')\n",
    "nx.draw_networkx_edges(G, pos,\n",
    "                           width=2, alpha=0.5, edge_color='k', style='dashed')\n",
    "nx.draw_networkx_labels(G, pos, font_size=24, font_family='sans-serif', font_color='white')\n",
    "plt.ylim([-4.5,1.3])\n",
    "limits=plt.axis('off') # turn of axis"
   ]
  },
  {
   "cell_type": "markdown",
   "metadata": {},
   "source": [
    "### Shortest Path - A -> B"
   ]
  },
  {
   "cell_type": "code",
   "execution_count": 29,
   "metadata": {},
   "outputs": [
    {
     "name": "stdout",
     "output_type": "stream",
     "text": [
      "['a', 'b']\n",
      "5\n"
     ]
    }
   ],
   "source": [
    "print(nx.dijkstra_path(G, 'a', 'b'))\n",
    "print(nx.dijkstra_path_length(G, 'a', 'b'))"
   ]
  },
  {
   "cell_type": "markdown",
   "metadata": {},
   "source": [
    "### Shortest Path - A -> C"
   ]
  },
  {
   "cell_type": "code",
   "execution_count": 30,
   "metadata": {},
   "outputs": [
    {
     "name": "stdout",
     "output_type": "stream",
     "text": [
      "['a', 'e', 'f', 'c']\n",
      "14\n"
     ]
    }
   ],
   "source": [
    "print(nx.dijkstra_path(G, 'a', 'c'))\n",
    "print(nx.dijkstra_path_length(G, 'a', 'c'))"
   ]
  },
  {
   "cell_type": "markdown",
   "metadata": {},
   "source": [
    "### Shortest Path - A -> D"
   ]
  },
  {
   "cell_type": "code",
   "execution_count": 31,
   "metadata": {},
   "outputs": [
    {
     "name": "stdout",
     "output_type": "stream",
     "text": [
      "['a', 'e', 'f', 'c', 'd']\n",
      "17\n"
     ]
    }
   ],
   "source": [
    "print(nx.dijkstra_path(G, 'a', 'd'))\n",
    "print(nx.dijkstra_path_length(G, 'a', 'd'))"
   ]
  },
  {
   "cell_type": "markdown",
   "metadata": {},
   "source": [
    "### Shortest Path - A -> E"
   ]
  },
  {
   "cell_type": "code",
   "execution_count": 32,
   "metadata": {},
   "outputs": [
    {
     "name": "stdout",
     "output_type": "stream",
     "text": [
      "['a', 'e']\n",
      "9\n"
     ]
    }
   ],
   "source": [
    "print(nx.dijkstra_path(G, 'a', 'e'))\n",
    "print(nx.dijkstra_path_length(G, 'a', 'e'))"
   ]
  },
  {
   "cell_type": "markdown",
   "metadata": {},
   "source": [
    "### Shortest Path - A -> F"
   ]
  },
  {
   "cell_type": "code",
   "execution_count": 33,
   "metadata": {},
   "outputs": [
    {
     "name": "stdout",
     "output_type": "stream",
     "text": [
      "['a', 'e', 'f']\n",
      "13\n"
     ]
    }
   ],
   "source": [
    "print(nx.dijkstra_path(G, 'a', 'f'))\n",
    "print(nx.dijkstra_path_length(G, 'a', 'f'))"
   ]
  },
  {
   "cell_type": "markdown",
   "metadata": {},
   "source": [
    "### Shortest Path - A -> G"
   ]
  },
  {
   "cell_type": "code",
   "execution_count": 34,
   "metadata": {},
   "outputs": [
    {
     "name": "stdout",
     "output_type": "stream",
     "text": [
      "['a', 'e', 'f', 'c', 'g']\n",
      "25\n"
     ]
    }
   ],
   "source": [
    "print(nx.dijkstra_path(G, 'a', 'g'))\n",
    "print(nx.dijkstra_path_length(G, 'a', 'g'))"
   ]
  },
  {
   "cell_type": "markdown",
   "metadata": {},
   "source": [
    "### Shortest Path - A -> H"
   ]
  },
  {
   "cell_type": "code",
   "execution_count": 35,
   "metadata": {},
   "outputs": [
    {
     "name": "stdout",
     "output_type": "stream",
     "text": [
      "['a', 'h']\n",
      "8\n"
     ]
    }
   ],
   "source": [
    "print(nx.dijkstra_path(G, 'a', 'h'))\n",
    "print(nx.dijkstra_path_length(G, 'a', 'h'))"
   ]
  },
  {
   "cell_type": "markdown",
   "metadata": {},
   "source": [
    "### Graph the shortest path tree"
   ]
  },
  {
   "cell_type": "code",
   "execution_count": 36,
   "metadata": {},
   "outputs": [],
   "source": [
    "G.remove_edge('e', 'h')\n",
    "G.remove_edge('b', 'h')\n",
    "G.remove_edge('b', 'c')\n",
    "G.remove_edge('b', 'd')\n",
    "G.remove_edge('d', 'g')\n",
    "G.remove_edge('e', 'g')\n",
    "G.remove_edge('f', 'g')\n",
    "G.remove_edge('h', 'c')\n",
    "G.remove_edge('h', 'f')"
   ]
  },
  {
   "cell_type": "code",
   "execution_count": 37,
   "metadata": {},
   "outputs": [
    {
     "data": {
      "image/png": "[encoded data removed]",
      "text/plain": [
       "<Figure size 432x288 with 1 Axes>"
      ]
     },
     "metadata": {},
     "output_type": "display_data"
    }
   ],
   "source": [
    "# pos = nx.spring_layout(G) # for a random layout\n",
    "pos= {'a': [-.8, .1], 'b': [-.3, .5], 'c': [0, -.8], 'd': [0.4, 0.3], 'e': [-.7, -3.5], 'f': [-.1, -2.2], 'g': [.3, -3.2], 'h': [ -.4, -1.6]}\n",
    "nx.draw_networkx_nodes(G, pos, node_size=1500, alpha=.9, node_color='#0000ac')\n",
    "nx.draw_networkx_edges(G, pos,\n",
    "                           width=2, alpha=0.5, edge_color='k', style='dashed')\n",
    "nx.draw_networkx_labels(G, pos, font_size=24, font_family='sans-serif', font_color='white')\n",
    "plt.ylim([-4.5,1.3])\n",
    "limits=plt.axis('off') # turn of axis"
   ]
  },
  {
   "cell_type": "markdown",
   "metadata": {},
   "source": [
    "## Section 3 - Minimum Spanning Tree"
   ]
  }
 ],
 "metadata": {
  "interpreter": {
   "hash": "f447eedad95461b113fb3fd736e69f965be206e1325dd52e03730503c3393601"
  },
  "kernelspec": {
   "display_name": "Python 3.10.0 ('COMP20230')",
   "language": "python",
   "name": "python3"
  },
  "language_info": {
   "codemirror_mode": {
    "name": "ipython",
    "version": 3
   },
   "file_extension": ".py",
   "mimetype": "text/x-python",
   "name": "python",
   "nbconvert_exporter": "python",
   "pygments_lexer": "ipython3",
   "version": "3.10.0"
  },
  "orig_nbformat": 4
 },
 "nbformat": 4,
 "nbformat_minor": 2
}
